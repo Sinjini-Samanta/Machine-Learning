{
 "cells": [
  {
   "cell_type": "code",
   "execution_count": 1,
   "id": "93ba498b",
   "metadata": {
    "_cell_guid": "b1076dfc-b9ad-4769-8c92-a6c4dae69d19",
    "_uuid": "8f2839f25d086af736a60e9eeb907d3b93b6e0e5",
    "execution": {
     "iopub.execute_input": "2024-03-25T13:38:04.346361Z",
     "iopub.status.busy": "2024-03-25T13:38:04.345635Z",
     "iopub.status.idle": "2024-03-25T13:38:05.310393Z",
     "shell.execute_reply": "2024-03-25T13:38:05.309088Z"
    },
    "papermill": {
     "duration": 0.981876,
     "end_time": "2024-03-25T13:38:05.313046",
     "exception": false,
     "start_time": "2024-03-25T13:38:04.331170",
     "status": "completed"
    },
    "tags": []
   },
   "outputs": [
    {
     "name": "stdout",
     "output_type": "stream",
     "text": [
      "/kaggle/input/creditcardfraud/creditcard.csv\n",
      "/kaggle/input/fraud-detection/fraudTest.csv\n",
      "/kaggle/input/fraud-detection/fraudTrain.csv\n"
     ]
    }
   ],
   "source": [
    "# This Python 3 environment comes with many helpful analytics libraries installed\n",
    "# It is defined by the kaggle/python Docker image: https://github.com/kaggle/docker-python\n",
    "# For example, here's several helpful packages to load\n",
    "\n",
    "import numpy as np # linear algebra\n",
    "import pandas as pd # data processing, CSV file I/O (e.g. pd.read_csv)\n",
    "\n",
    "# Input data files are available in the read-only \"../input/\" directory\n",
    "# For example, running this (by clicking run or pressing Shift+Enter) will list all files under the input directory\n",
    "\n",
    "import os\n",
    "for dirname, _, filenames in os.walk('/kaggle/input'):\n",
    "    for filename in filenames:\n",
    "        print(os.path.join(dirname, filename))\n",
    "\n",
    "# You can write up to 20GB to the current directory (/kaggle/working/) that gets preserved as output when you create a version using \"Save & Run All\" \n",
    "# You can also write temporary files to /kaggle/temp/, but they won't be saved outside of the current session"
   ]
  },
  {
   "cell_type": "markdown",
   "id": "45eecbcd",
   "metadata": {
    "papermill": {
     "duration": 0.01217,
     "end_time": "2024-03-25T13:38:05.337955",
     "exception": false,
     "start_time": "2024-03-25T13:38:05.325785",
     "status": "completed"
    },
    "tags": []
   },
   "source": [
    "# **Importing the libraries**"
   ]
  },
  {
   "cell_type": "code",
   "execution_count": 2,
   "id": "c53260a1",
   "metadata": {
    "execution": {
     "iopub.execute_input": "2024-03-25T13:38:05.366424Z",
     "iopub.status.busy": "2024-03-25T13:38:05.365881Z",
     "iopub.status.idle": "2024-03-25T13:38:06.882795Z",
     "shell.execute_reply": "2024-03-25T13:38:06.881454Z"
    },
    "papermill": {
     "duration": 1.535466,
     "end_time": "2024-03-25T13:38:06.885887",
     "exception": false,
     "start_time": "2024-03-25T13:38:05.350421",
     "status": "completed"
    },
    "tags": []
   },
   "outputs": [],
   "source": [
    "import numpy as np\n",
    "import pandas as pd\n",
    "from sklearn.model_selection import train_test_split\n",
    "from sklearn.linear_model import LogisticRegression\n",
    "from sklearn.metrics import accuracy_score"
   ]
  },
  {
   "cell_type": "markdown",
   "id": "b12c7ffa",
   "metadata": {
    "papermill": {
     "duration": 0.01283,
     "end_time": "2024-03-25T13:38:06.911317",
     "exception": false,
     "start_time": "2024-03-25T13:38:06.898487",
     "status": "completed"
    },
    "tags": []
   },
   "source": [
    "# **Loading the data to a Dataframe**"
   ]
  },
  {
   "cell_type": "code",
   "execution_count": 3,
   "id": "53cd6feb",
   "metadata": {
    "execution": {
     "iopub.execute_input": "2024-03-25T13:38:06.939856Z",
     "iopub.status.busy": "2024-03-25T13:38:06.939377Z",
     "iopub.status.idle": "2024-03-25T13:38:11.354947Z",
     "shell.execute_reply": "2024-03-25T13:38:11.353606Z"
    },
    "papermill": {
     "duration": 4.433033,
     "end_time": "2024-03-25T13:38:11.358236",
     "exception": false,
     "start_time": "2024-03-25T13:38:06.925203",
     "status": "completed"
    },
    "tags": []
   },
   "outputs": [],
   "source": [
    "data= pd.read_csv('/kaggle/input/creditcardfraud/creditcard.csv')"
   ]
  },
  {
   "cell_type": "markdown",
   "id": "5c081e3a",
   "metadata": {
    "papermill": {
     "duration": 0.014872,
     "end_time": "2024-03-25T13:38:11.386166",
     "exception": false,
     "start_time": "2024-03-25T13:38:11.371294",
     "status": "completed"
    },
    "tags": []
   },
   "source": [
    "# **EDA on the dataset**"
   ]
  },
  {
   "cell_type": "code",
   "execution_count": 4,
   "id": "9b66297d",
   "metadata": {
    "execution": {
     "iopub.execute_input": "2024-03-25T13:38:11.414251Z",
     "iopub.status.busy": "2024-03-25T13:38:11.413787Z",
     "iopub.status.idle": "2024-03-25T13:38:11.454766Z",
     "shell.execute_reply": "2024-03-25T13:38:11.453452Z"
    },
    "papermill": {
     "duration": 0.057926,
     "end_time": "2024-03-25T13:38:11.457396",
     "exception": false,
     "start_time": "2024-03-25T13:38:11.399470",
     "status": "completed"
    },
    "tags": []
   },
   "outputs": [
    {
     "data": {
      "text/html": [
       "<div>\n",
       "<style scoped>\n",
       "    .dataframe tbody tr th:only-of-type {\n",
       "        vertical-align: middle;\n",
       "    }\n",
       "\n",
       "    .dataframe tbody tr th {\n",
       "        vertical-align: top;\n",
       "    }\n",
       "\n",
       "    .dataframe thead th {\n",
       "        text-align: right;\n",
       "    }\n",
       "</style>\n",
       "<table border=\"1\" class=\"dataframe\">\n",
       "  <thead>\n",
       "    <tr style=\"text-align: right;\">\n",
       "      <th></th>\n",
       "      <th>Time</th>\n",
       "      <th>V1</th>\n",
       "      <th>V2</th>\n",
       "      <th>V3</th>\n",
       "      <th>V4</th>\n",
       "      <th>V5</th>\n",
       "      <th>V6</th>\n",
       "      <th>V7</th>\n",
       "      <th>V8</th>\n",
       "      <th>V9</th>\n",
       "      <th>...</th>\n",
       "      <th>V21</th>\n",
       "      <th>V22</th>\n",
       "      <th>V23</th>\n",
       "      <th>V24</th>\n",
       "      <th>V25</th>\n",
       "      <th>V26</th>\n",
       "      <th>V27</th>\n",
       "      <th>V28</th>\n",
       "      <th>Amount</th>\n",
       "      <th>Class</th>\n",
       "    </tr>\n",
       "  </thead>\n",
       "  <tbody>\n",
       "    <tr>\n",
       "      <th>0</th>\n",
       "      <td>0.0</td>\n",
       "      <td>-1.359807</td>\n",
       "      <td>-0.072781</td>\n",
       "      <td>2.536347</td>\n",
       "      <td>1.378155</td>\n",
       "      <td>-0.338321</td>\n",
       "      <td>0.462388</td>\n",
       "      <td>0.239599</td>\n",
       "      <td>0.098698</td>\n",
       "      <td>0.363787</td>\n",
       "      <td>...</td>\n",
       "      <td>-0.018307</td>\n",
       "      <td>0.277838</td>\n",
       "      <td>-0.110474</td>\n",
       "      <td>0.066928</td>\n",
       "      <td>0.128539</td>\n",
       "      <td>-0.189115</td>\n",
       "      <td>0.133558</td>\n",
       "      <td>-0.021053</td>\n",
       "      <td>149.62</td>\n",
       "      <td>0</td>\n",
       "    </tr>\n",
       "    <tr>\n",
       "      <th>1</th>\n",
       "      <td>0.0</td>\n",
       "      <td>1.191857</td>\n",
       "      <td>0.266151</td>\n",
       "      <td>0.166480</td>\n",
       "      <td>0.448154</td>\n",
       "      <td>0.060018</td>\n",
       "      <td>-0.082361</td>\n",
       "      <td>-0.078803</td>\n",
       "      <td>0.085102</td>\n",
       "      <td>-0.255425</td>\n",
       "      <td>...</td>\n",
       "      <td>-0.225775</td>\n",
       "      <td>-0.638672</td>\n",
       "      <td>0.101288</td>\n",
       "      <td>-0.339846</td>\n",
       "      <td>0.167170</td>\n",
       "      <td>0.125895</td>\n",
       "      <td>-0.008983</td>\n",
       "      <td>0.014724</td>\n",
       "      <td>2.69</td>\n",
       "      <td>0</td>\n",
       "    </tr>\n",
       "    <tr>\n",
       "      <th>2</th>\n",
       "      <td>1.0</td>\n",
       "      <td>-1.358354</td>\n",
       "      <td>-1.340163</td>\n",
       "      <td>1.773209</td>\n",
       "      <td>0.379780</td>\n",
       "      <td>-0.503198</td>\n",
       "      <td>1.800499</td>\n",
       "      <td>0.791461</td>\n",
       "      <td>0.247676</td>\n",
       "      <td>-1.514654</td>\n",
       "      <td>...</td>\n",
       "      <td>0.247998</td>\n",
       "      <td>0.771679</td>\n",
       "      <td>0.909412</td>\n",
       "      <td>-0.689281</td>\n",
       "      <td>-0.327642</td>\n",
       "      <td>-0.139097</td>\n",
       "      <td>-0.055353</td>\n",
       "      <td>-0.059752</td>\n",
       "      <td>378.66</td>\n",
       "      <td>0</td>\n",
       "    </tr>\n",
       "    <tr>\n",
       "      <th>3</th>\n",
       "      <td>1.0</td>\n",
       "      <td>-0.966272</td>\n",
       "      <td>-0.185226</td>\n",
       "      <td>1.792993</td>\n",
       "      <td>-0.863291</td>\n",
       "      <td>-0.010309</td>\n",
       "      <td>1.247203</td>\n",
       "      <td>0.237609</td>\n",
       "      <td>0.377436</td>\n",
       "      <td>-1.387024</td>\n",
       "      <td>...</td>\n",
       "      <td>-0.108300</td>\n",
       "      <td>0.005274</td>\n",
       "      <td>-0.190321</td>\n",
       "      <td>-1.175575</td>\n",
       "      <td>0.647376</td>\n",
       "      <td>-0.221929</td>\n",
       "      <td>0.062723</td>\n",
       "      <td>0.061458</td>\n",
       "      <td>123.50</td>\n",
       "      <td>0</td>\n",
       "    </tr>\n",
       "    <tr>\n",
       "      <th>4</th>\n",
       "      <td>2.0</td>\n",
       "      <td>-1.158233</td>\n",
       "      <td>0.877737</td>\n",
       "      <td>1.548718</td>\n",
       "      <td>0.403034</td>\n",
       "      <td>-0.407193</td>\n",
       "      <td>0.095921</td>\n",
       "      <td>0.592941</td>\n",
       "      <td>-0.270533</td>\n",
       "      <td>0.817739</td>\n",
       "      <td>...</td>\n",
       "      <td>-0.009431</td>\n",
       "      <td>0.798278</td>\n",
       "      <td>-0.137458</td>\n",
       "      <td>0.141267</td>\n",
       "      <td>-0.206010</td>\n",
       "      <td>0.502292</td>\n",
       "      <td>0.219422</td>\n",
       "      <td>0.215153</td>\n",
       "      <td>69.99</td>\n",
       "      <td>0</td>\n",
       "    </tr>\n",
       "  </tbody>\n",
       "</table>\n",
       "<p>5 rows × 31 columns</p>\n",
       "</div>"
      ],
      "text/plain": [
       "   Time        V1        V2        V3        V4        V5        V6        V7  \\\n",
       "0   0.0 -1.359807 -0.072781  2.536347  1.378155 -0.338321  0.462388  0.239599   \n",
       "1   0.0  1.191857  0.266151  0.166480  0.448154  0.060018 -0.082361 -0.078803   \n",
       "2   1.0 -1.358354 -1.340163  1.773209  0.379780 -0.503198  1.800499  0.791461   \n",
       "3   1.0 -0.966272 -0.185226  1.792993 -0.863291 -0.010309  1.247203  0.237609   \n",
       "4   2.0 -1.158233  0.877737  1.548718  0.403034 -0.407193  0.095921  0.592941   \n",
       "\n",
       "         V8        V9  ...       V21       V22       V23       V24       V25  \\\n",
       "0  0.098698  0.363787  ... -0.018307  0.277838 -0.110474  0.066928  0.128539   \n",
       "1  0.085102 -0.255425  ... -0.225775 -0.638672  0.101288 -0.339846  0.167170   \n",
       "2  0.247676 -1.514654  ...  0.247998  0.771679  0.909412 -0.689281 -0.327642   \n",
       "3  0.377436 -1.387024  ... -0.108300  0.005274 -0.190321 -1.175575  0.647376   \n",
       "4 -0.270533  0.817739  ... -0.009431  0.798278 -0.137458  0.141267 -0.206010   \n",
       "\n",
       "        V26       V27       V28  Amount  Class  \n",
       "0 -0.189115  0.133558 -0.021053  149.62      0  \n",
       "1  0.125895 -0.008983  0.014724    2.69      0  \n",
       "2 -0.139097 -0.055353 -0.059752  378.66      0  \n",
       "3 -0.221929  0.062723  0.061458  123.50      0  \n",
       "4  0.502292  0.219422  0.215153   69.99      0  \n",
       "\n",
       "[5 rows x 31 columns]"
      ]
     },
     "execution_count": 4,
     "metadata": {},
     "output_type": "execute_result"
    }
   ],
   "source": [
    "data.head()"
   ]
  },
  {
   "cell_type": "code",
   "execution_count": 5,
   "id": "55abbcfd",
   "metadata": {
    "execution": {
     "iopub.execute_input": "2024-03-25T13:38:11.485444Z",
     "iopub.status.busy": "2024-03-25T13:38:11.484779Z",
     "iopub.status.idle": "2024-03-25T13:38:11.512615Z",
     "shell.execute_reply": "2024-03-25T13:38:11.511460Z"
    },
    "papermill": {
     "duration": 0.044898,
     "end_time": "2024-03-25T13:38:11.515279",
     "exception": false,
     "start_time": "2024-03-25T13:38:11.470381",
     "status": "completed"
    },
    "tags": []
   },
   "outputs": [
    {
     "data": {
      "text/html": [
       "<div>\n",
       "<style scoped>\n",
       "    .dataframe tbody tr th:only-of-type {\n",
       "        vertical-align: middle;\n",
       "    }\n",
       "\n",
       "    .dataframe tbody tr th {\n",
       "        vertical-align: top;\n",
       "    }\n",
       "\n",
       "    .dataframe thead th {\n",
       "        text-align: right;\n",
       "    }\n",
       "</style>\n",
       "<table border=\"1\" class=\"dataframe\">\n",
       "  <thead>\n",
       "    <tr style=\"text-align: right;\">\n",
       "      <th></th>\n",
       "      <th>Time</th>\n",
       "      <th>V1</th>\n",
       "      <th>V2</th>\n",
       "      <th>V3</th>\n",
       "      <th>V4</th>\n",
       "      <th>V5</th>\n",
       "      <th>V6</th>\n",
       "      <th>V7</th>\n",
       "      <th>V8</th>\n",
       "      <th>V9</th>\n",
       "      <th>...</th>\n",
       "      <th>V21</th>\n",
       "      <th>V22</th>\n",
       "      <th>V23</th>\n",
       "      <th>V24</th>\n",
       "      <th>V25</th>\n",
       "      <th>V26</th>\n",
       "      <th>V27</th>\n",
       "      <th>V28</th>\n",
       "      <th>Amount</th>\n",
       "      <th>Class</th>\n",
       "    </tr>\n",
       "  </thead>\n",
       "  <tbody>\n",
       "    <tr>\n",
       "      <th>284802</th>\n",
       "      <td>172786.0</td>\n",
       "      <td>-11.881118</td>\n",
       "      <td>10.071785</td>\n",
       "      <td>-9.834783</td>\n",
       "      <td>-2.066656</td>\n",
       "      <td>-5.364473</td>\n",
       "      <td>-2.606837</td>\n",
       "      <td>-4.918215</td>\n",
       "      <td>7.305334</td>\n",
       "      <td>1.914428</td>\n",
       "      <td>...</td>\n",
       "      <td>0.213454</td>\n",
       "      <td>0.111864</td>\n",
       "      <td>1.014480</td>\n",
       "      <td>-0.509348</td>\n",
       "      <td>1.436807</td>\n",
       "      <td>0.250034</td>\n",
       "      <td>0.943651</td>\n",
       "      <td>0.823731</td>\n",
       "      <td>0.77</td>\n",
       "      <td>0</td>\n",
       "    </tr>\n",
       "    <tr>\n",
       "      <th>284803</th>\n",
       "      <td>172787.0</td>\n",
       "      <td>-0.732789</td>\n",
       "      <td>-0.055080</td>\n",
       "      <td>2.035030</td>\n",
       "      <td>-0.738589</td>\n",
       "      <td>0.868229</td>\n",
       "      <td>1.058415</td>\n",
       "      <td>0.024330</td>\n",
       "      <td>0.294869</td>\n",
       "      <td>0.584800</td>\n",
       "      <td>...</td>\n",
       "      <td>0.214205</td>\n",
       "      <td>0.924384</td>\n",
       "      <td>0.012463</td>\n",
       "      <td>-1.016226</td>\n",
       "      <td>-0.606624</td>\n",
       "      <td>-0.395255</td>\n",
       "      <td>0.068472</td>\n",
       "      <td>-0.053527</td>\n",
       "      <td>24.79</td>\n",
       "      <td>0</td>\n",
       "    </tr>\n",
       "    <tr>\n",
       "      <th>284804</th>\n",
       "      <td>172788.0</td>\n",
       "      <td>1.919565</td>\n",
       "      <td>-0.301254</td>\n",
       "      <td>-3.249640</td>\n",
       "      <td>-0.557828</td>\n",
       "      <td>2.630515</td>\n",
       "      <td>3.031260</td>\n",
       "      <td>-0.296827</td>\n",
       "      <td>0.708417</td>\n",
       "      <td>0.432454</td>\n",
       "      <td>...</td>\n",
       "      <td>0.232045</td>\n",
       "      <td>0.578229</td>\n",
       "      <td>-0.037501</td>\n",
       "      <td>0.640134</td>\n",
       "      <td>0.265745</td>\n",
       "      <td>-0.087371</td>\n",
       "      <td>0.004455</td>\n",
       "      <td>-0.026561</td>\n",
       "      <td>67.88</td>\n",
       "      <td>0</td>\n",
       "    </tr>\n",
       "    <tr>\n",
       "      <th>284805</th>\n",
       "      <td>172788.0</td>\n",
       "      <td>-0.240440</td>\n",
       "      <td>0.530483</td>\n",
       "      <td>0.702510</td>\n",
       "      <td>0.689799</td>\n",
       "      <td>-0.377961</td>\n",
       "      <td>0.623708</td>\n",
       "      <td>-0.686180</td>\n",
       "      <td>0.679145</td>\n",
       "      <td>0.392087</td>\n",
       "      <td>...</td>\n",
       "      <td>0.265245</td>\n",
       "      <td>0.800049</td>\n",
       "      <td>-0.163298</td>\n",
       "      <td>0.123205</td>\n",
       "      <td>-0.569159</td>\n",
       "      <td>0.546668</td>\n",
       "      <td>0.108821</td>\n",
       "      <td>0.104533</td>\n",
       "      <td>10.00</td>\n",
       "      <td>0</td>\n",
       "    </tr>\n",
       "    <tr>\n",
       "      <th>284806</th>\n",
       "      <td>172792.0</td>\n",
       "      <td>-0.533413</td>\n",
       "      <td>-0.189733</td>\n",
       "      <td>0.703337</td>\n",
       "      <td>-0.506271</td>\n",
       "      <td>-0.012546</td>\n",
       "      <td>-0.649617</td>\n",
       "      <td>1.577006</td>\n",
       "      <td>-0.414650</td>\n",
       "      <td>0.486180</td>\n",
       "      <td>...</td>\n",
       "      <td>0.261057</td>\n",
       "      <td>0.643078</td>\n",
       "      <td>0.376777</td>\n",
       "      <td>0.008797</td>\n",
       "      <td>-0.473649</td>\n",
       "      <td>-0.818267</td>\n",
       "      <td>-0.002415</td>\n",
       "      <td>0.013649</td>\n",
       "      <td>217.00</td>\n",
       "      <td>0</td>\n",
       "    </tr>\n",
       "  </tbody>\n",
       "</table>\n",
       "<p>5 rows × 31 columns</p>\n",
       "</div>"
      ],
      "text/plain": [
       "            Time         V1         V2        V3        V4        V5  \\\n",
       "284802  172786.0 -11.881118  10.071785 -9.834783 -2.066656 -5.364473   \n",
       "284803  172787.0  -0.732789  -0.055080  2.035030 -0.738589  0.868229   \n",
       "284804  172788.0   1.919565  -0.301254 -3.249640 -0.557828  2.630515   \n",
       "284805  172788.0  -0.240440   0.530483  0.702510  0.689799 -0.377961   \n",
       "284806  172792.0  -0.533413  -0.189733  0.703337 -0.506271 -0.012546   \n",
       "\n",
       "              V6        V7        V8        V9  ...       V21       V22  \\\n",
       "284802 -2.606837 -4.918215  7.305334  1.914428  ...  0.213454  0.111864   \n",
       "284803  1.058415  0.024330  0.294869  0.584800  ...  0.214205  0.924384   \n",
       "284804  3.031260 -0.296827  0.708417  0.432454  ...  0.232045  0.578229   \n",
       "284805  0.623708 -0.686180  0.679145  0.392087  ...  0.265245  0.800049   \n",
       "284806 -0.649617  1.577006 -0.414650  0.486180  ...  0.261057  0.643078   \n",
       "\n",
       "             V23       V24       V25       V26       V27       V28  Amount  \\\n",
       "284802  1.014480 -0.509348  1.436807  0.250034  0.943651  0.823731    0.77   \n",
       "284803  0.012463 -1.016226 -0.606624 -0.395255  0.068472 -0.053527   24.79   \n",
       "284804 -0.037501  0.640134  0.265745 -0.087371  0.004455 -0.026561   67.88   \n",
       "284805 -0.163298  0.123205 -0.569159  0.546668  0.108821  0.104533   10.00   \n",
       "284806  0.376777  0.008797 -0.473649 -0.818267 -0.002415  0.013649  217.00   \n",
       "\n",
       "        Class  \n",
       "284802      0  \n",
       "284803      0  \n",
       "284804      0  \n",
       "284805      0  \n",
       "284806      0  \n",
       "\n",
       "[5 rows x 31 columns]"
      ]
     },
     "execution_count": 5,
     "metadata": {},
     "output_type": "execute_result"
    }
   ],
   "source": [
    "data.tail()"
   ]
  },
  {
   "cell_type": "code",
   "execution_count": 6,
   "id": "70d6bd1b",
   "metadata": {
    "execution": {
     "iopub.execute_input": "2024-03-25T13:38:11.544949Z",
     "iopub.status.busy": "2024-03-25T13:38:11.544515Z",
     "iopub.status.idle": "2024-03-25T13:38:12.033804Z",
     "shell.execute_reply": "2024-03-25T13:38:12.032746Z"
    },
    "papermill": {
     "duration": 0.507346,
     "end_time": "2024-03-25T13:38:12.036228",
     "exception": false,
     "start_time": "2024-03-25T13:38:11.528882",
     "status": "completed"
    },
    "tags": []
   },
   "outputs": [
    {
     "data": {
      "text/html": [
       "<div>\n",
       "<style scoped>\n",
       "    .dataframe tbody tr th:only-of-type {\n",
       "        vertical-align: middle;\n",
       "    }\n",
       "\n",
       "    .dataframe tbody tr th {\n",
       "        vertical-align: top;\n",
       "    }\n",
       "\n",
       "    .dataframe thead th {\n",
       "        text-align: right;\n",
       "    }\n",
       "</style>\n",
       "<table border=\"1\" class=\"dataframe\">\n",
       "  <thead>\n",
       "    <tr style=\"text-align: right;\">\n",
       "      <th></th>\n",
       "      <th>Time</th>\n",
       "      <th>V1</th>\n",
       "      <th>V2</th>\n",
       "      <th>V3</th>\n",
       "      <th>V4</th>\n",
       "      <th>V5</th>\n",
       "      <th>V6</th>\n",
       "      <th>V7</th>\n",
       "      <th>V8</th>\n",
       "      <th>V9</th>\n",
       "      <th>...</th>\n",
       "      <th>V21</th>\n",
       "      <th>V22</th>\n",
       "      <th>V23</th>\n",
       "      <th>V24</th>\n",
       "      <th>V25</th>\n",
       "      <th>V26</th>\n",
       "      <th>V27</th>\n",
       "      <th>V28</th>\n",
       "      <th>Amount</th>\n",
       "      <th>Class</th>\n",
       "    </tr>\n",
       "  </thead>\n",
       "  <tbody>\n",
       "    <tr>\n",
       "      <th>count</th>\n",
       "      <td>284807.000000</td>\n",
       "      <td>2.848070e+05</td>\n",
       "      <td>2.848070e+05</td>\n",
       "      <td>2.848070e+05</td>\n",
       "      <td>2.848070e+05</td>\n",
       "      <td>2.848070e+05</td>\n",
       "      <td>2.848070e+05</td>\n",
       "      <td>2.848070e+05</td>\n",
       "      <td>2.848070e+05</td>\n",
       "      <td>2.848070e+05</td>\n",
       "      <td>...</td>\n",
       "      <td>2.848070e+05</td>\n",
       "      <td>2.848070e+05</td>\n",
       "      <td>2.848070e+05</td>\n",
       "      <td>2.848070e+05</td>\n",
       "      <td>2.848070e+05</td>\n",
       "      <td>2.848070e+05</td>\n",
       "      <td>2.848070e+05</td>\n",
       "      <td>2.848070e+05</td>\n",
       "      <td>284807.000000</td>\n",
       "      <td>284807.000000</td>\n",
       "    </tr>\n",
       "    <tr>\n",
       "      <th>mean</th>\n",
       "      <td>94813.859575</td>\n",
       "      <td>1.168375e-15</td>\n",
       "      <td>3.416908e-16</td>\n",
       "      <td>-1.379537e-15</td>\n",
       "      <td>2.074095e-15</td>\n",
       "      <td>9.604066e-16</td>\n",
       "      <td>1.487313e-15</td>\n",
       "      <td>-5.556467e-16</td>\n",
       "      <td>1.213481e-16</td>\n",
       "      <td>-2.406331e-15</td>\n",
       "      <td>...</td>\n",
       "      <td>1.654067e-16</td>\n",
       "      <td>-3.568593e-16</td>\n",
       "      <td>2.578648e-16</td>\n",
       "      <td>4.473266e-15</td>\n",
       "      <td>5.340915e-16</td>\n",
       "      <td>1.683437e-15</td>\n",
       "      <td>-3.660091e-16</td>\n",
       "      <td>-1.227390e-16</td>\n",
       "      <td>88.349619</td>\n",
       "      <td>0.001727</td>\n",
       "    </tr>\n",
       "    <tr>\n",
       "      <th>std</th>\n",
       "      <td>47488.145955</td>\n",
       "      <td>1.958696e+00</td>\n",
       "      <td>1.651309e+00</td>\n",
       "      <td>1.516255e+00</td>\n",
       "      <td>1.415869e+00</td>\n",
       "      <td>1.380247e+00</td>\n",
       "      <td>1.332271e+00</td>\n",
       "      <td>1.237094e+00</td>\n",
       "      <td>1.194353e+00</td>\n",
       "      <td>1.098632e+00</td>\n",
       "      <td>...</td>\n",
       "      <td>7.345240e-01</td>\n",
       "      <td>7.257016e-01</td>\n",
       "      <td>6.244603e-01</td>\n",
       "      <td>6.056471e-01</td>\n",
       "      <td>5.212781e-01</td>\n",
       "      <td>4.822270e-01</td>\n",
       "      <td>4.036325e-01</td>\n",
       "      <td>3.300833e-01</td>\n",
       "      <td>250.120109</td>\n",
       "      <td>0.041527</td>\n",
       "    </tr>\n",
       "    <tr>\n",
       "      <th>min</th>\n",
       "      <td>0.000000</td>\n",
       "      <td>-5.640751e+01</td>\n",
       "      <td>-7.271573e+01</td>\n",
       "      <td>-4.832559e+01</td>\n",
       "      <td>-5.683171e+00</td>\n",
       "      <td>-1.137433e+02</td>\n",
       "      <td>-2.616051e+01</td>\n",
       "      <td>-4.355724e+01</td>\n",
       "      <td>-7.321672e+01</td>\n",
       "      <td>-1.343407e+01</td>\n",
       "      <td>...</td>\n",
       "      <td>-3.483038e+01</td>\n",
       "      <td>-1.093314e+01</td>\n",
       "      <td>-4.480774e+01</td>\n",
       "      <td>-2.836627e+00</td>\n",
       "      <td>-1.029540e+01</td>\n",
       "      <td>-2.604551e+00</td>\n",
       "      <td>-2.256568e+01</td>\n",
       "      <td>-1.543008e+01</td>\n",
       "      <td>0.000000</td>\n",
       "      <td>0.000000</td>\n",
       "    </tr>\n",
       "    <tr>\n",
       "      <th>25%</th>\n",
       "      <td>54201.500000</td>\n",
       "      <td>-9.203734e-01</td>\n",
       "      <td>-5.985499e-01</td>\n",
       "      <td>-8.903648e-01</td>\n",
       "      <td>-8.486401e-01</td>\n",
       "      <td>-6.915971e-01</td>\n",
       "      <td>-7.682956e-01</td>\n",
       "      <td>-5.540759e-01</td>\n",
       "      <td>-2.086297e-01</td>\n",
       "      <td>-6.430976e-01</td>\n",
       "      <td>...</td>\n",
       "      <td>-2.283949e-01</td>\n",
       "      <td>-5.423504e-01</td>\n",
       "      <td>-1.618463e-01</td>\n",
       "      <td>-3.545861e-01</td>\n",
       "      <td>-3.171451e-01</td>\n",
       "      <td>-3.269839e-01</td>\n",
       "      <td>-7.083953e-02</td>\n",
       "      <td>-5.295979e-02</td>\n",
       "      <td>5.600000</td>\n",
       "      <td>0.000000</td>\n",
       "    </tr>\n",
       "    <tr>\n",
       "      <th>50%</th>\n",
       "      <td>84692.000000</td>\n",
       "      <td>1.810880e-02</td>\n",
       "      <td>6.548556e-02</td>\n",
       "      <td>1.798463e-01</td>\n",
       "      <td>-1.984653e-02</td>\n",
       "      <td>-5.433583e-02</td>\n",
       "      <td>-2.741871e-01</td>\n",
       "      <td>4.010308e-02</td>\n",
       "      <td>2.235804e-02</td>\n",
       "      <td>-5.142873e-02</td>\n",
       "      <td>...</td>\n",
       "      <td>-2.945017e-02</td>\n",
       "      <td>6.781943e-03</td>\n",
       "      <td>-1.119293e-02</td>\n",
       "      <td>4.097606e-02</td>\n",
       "      <td>1.659350e-02</td>\n",
       "      <td>-5.213911e-02</td>\n",
       "      <td>1.342146e-03</td>\n",
       "      <td>1.124383e-02</td>\n",
       "      <td>22.000000</td>\n",
       "      <td>0.000000</td>\n",
       "    </tr>\n",
       "    <tr>\n",
       "      <th>75%</th>\n",
       "      <td>139320.500000</td>\n",
       "      <td>1.315642e+00</td>\n",
       "      <td>8.037239e-01</td>\n",
       "      <td>1.027196e+00</td>\n",
       "      <td>7.433413e-01</td>\n",
       "      <td>6.119264e-01</td>\n",
       "      <td>3.985649e-01</td>\n",
       "      <td>5.704361e-01</td>\n",
       "      <td>3.273459e-01</td>\n",
       "      <td>5.971390e-01</td>\n",
       "      <td>...</td>\n",
       "      <td>1.863772e-01</td>\n",
       "      <td>5.285536e-01</td>\n",
       "      <td>1.476421e-01</td>\n",
       "      <td>4.395266e-01</td>\n",
       "      <td>3.507156e-01</td>\n",
       "      <td>2.409522e-01</td>\n",
       "      <td>9.104512e-02</td>\n",
       "      <td>7.827995e-02</td>\n",
       "      <td>77.165000</td>\n",
       "      <td>0.000000</td>\n",
       "    </tr>\n",
       "    <tr>\n",
       "      <th>max</th>\n",
       "      <td>172792.000000</td>\n",
       "      <td>2.454930e+00</td>\n",
       "      <td>2.205773e+01</td>\n",
       "      <td>9.382558e+00</td>\n",
       "      <td>1.687534e+01</td>\n",
       "      <td>3.480167e+01</td>\n",
       "      <td>7.330163e+01</td>\n",
       "      <td>1.205895e+02</td>\n",
       "      <td>2.000721e+01</td>\n",
       "      <td>1.559499e+01</td>\n",
       "      <td>...</td>\n",
       "      <td>2.720284e+01</td>\n",
       "      <td>1.050309e+01</td>\n",
       "      <td>2.252841e+01</td>\n",
       "      <td>4.584549e+00</td>\n",
       "      <td>7.519589e+00</td>\n",
       "      <td>3.517346e+00</td>\n",
       "      <td>3.161220e+01</td>\n",
       "      <td>3.384781e+01</td>\n",
       "      <td>25691.160000</td>\n",
       "      <td>1.000000</td>\n",
       "    </tr>\n",
       "  </tbody>\n",
       "</table>\n",
       "<p>8 rows × 31 columns</p>\n",
       "</div>"
      ],
      "text/plain": [
       "                Time            V1            V2            V3            V4  \\\n",
       "count  284807.000000  2.848070e+05  2.848070e+05  2.848070e+05  2.848070e+05   \n",
       "mean    94813.859575  1.168375e-15  3.416908e-16 -1.379537e-15  2.074095e-15   \n",
       "std     47488.145955  1.958696e+00  1.651309e+00  1.516255e+00  1.415869e+00   \n",
       "min         0.000000 -5.640751e+01 -7.271573e+01 -4.832559e+01 -5.683171e+00   \n",
       "25%     54201.500000 -9.203734e-01 -5.985499e-01 -8.903648e-01 -8.486401e-01   \n",
       "50%     84692.000000  1.810880e-02  6.548556e-02  1.798463e-01 -1.984653e-02   \n",
       "75%    139320.500000  1.315642e+00  8.037239e-01  1.027196e+00  7.433413e-01   \n",
       "max    172792.000000  2.454930e+00  2.205773e+01  9.382558e+00  1.687534e+01   \n",
       "\n",
       "                 V5            V6            V7            V8            V9  \\\n",
       "count  2.848070e+05  2.848070e+05  2.848070e+05  2.848070e+05  2.848070e+05   \n",
       "mean   9.604066e-16  1.487313e-15 -5.556467e-16  1.213481e-16 -2.406331e-15   \n",
       "std    1.380247e+00  1.332271e+00  1.237094e+00  1.194353e+00  1.098632e+00   \n",
       "min   -1.137433e+02 -2.616051e+01 -4.355724e+01 -7.321672e+01 -1.343407e+01   \n",
       "25%   -6.915971e-01 -7.682956e-01 -5.540759e-01 -2.086297e-01 -6.430976e-01   \n",
       "50%   -5.433583e-02 -2.741871e-01  4.010308e-02  2.235804e-02 -5.142873e-02   \n",
       "75%    6.119264e-01  3.985649e-01  5.704361e-01  3.273459e-01  5.971390e-01   \n",
       "max    3.480167e+01  7.330163e+01  1.205895e+02  2.000721e+01  1.559499e+01   \n",
       "\n",
       "       ...           V21           V22           V23           V24  \\\n",
       "count  ...  2.848070e+05  2.848070e+05  2.848070e+05  2.848070e+05   \n",
       "mean   ...  1.654067e-16 -3.568593e-16  2.578648e-16  4.473266e-15   \n",
       "std    ...  7.345240e-01  7.257016e-01  6.244603e-01  6.056471e-01   \n",
       "min    ... -3.483038e+01 -1.093314e+01 -4.480774e+01 -2.836627e+00   \n",
       "25%    ... -2.283949e-01 -5.423504e-01 -1.618463e-01 -3.545861e-01   \n",
       "50%    ... -2.945017e-02  6.781943e-03 -1.119293e-02  4.097606e-02   \n",
       "75%    ...  1.863772e-01  5.285536e-01  1.476421e-01  4.395266e-01   \n",
       "max    ...  2.720284e+01  1.050309e+01  2.252841e+01  4.584549e+00   \n",
       "\n",
       "                V25           V26           V27           V28         Amount  \\\n",
       "count  2.848070e+05  2.848070e+05  2.848070e+05  2.848070e+05  284807.000000   \n",
       "mean   5.340915e-16  1.683437e-15 -3.660091e-16 -1.227390e-16      88.349619   \n",
       "std    5.212781e-01  4.822270e-01  4.036325e-01  3.300833e-01     250.120109   \n",
       "min   -1.029540e+01 -2.604551e+00 -2.256568e+01 -1.543008e+01       0.000000   \n",
       "25%   -3.171451e-01 -3.269839e-01 -7.083953e-02 -5.295979e-02       5.600000   \n",
       "50%    1.659350e-02 -5.213911e-02  1.342146e-03  1.124383e-02      22.000000   \n",
       "75%    3.507156e-01  2.409522e-01  9.104512e-02  7.827995e-02      77.165000   \n",
       "max    7.519589e+00  3.517346e+00  3.161220e+01  3.384781e+01   25691.160000   \n",
       "\n",
       "               Class  \n",
       "count  284807.000000  \n",
       "mean        0.001727  \n",
       "std         0.041527  \n",
       "min         0.000000  \n",
       "25%         0.000000  \n",
       "50%         0.000000  \n",
       "75%         0.000000  \n",
       "max         1.000000  \n",
       "\n",
       "[8 rows x 31 columns]"
      ]
     },
     "execution_count": 6,
     "metadata": {},
     "output_type": "execute_result"
    }
   ],
   "source": [
    "data.describe()"
   ]
  },
  {
   "cell_type": "code",
   "execution_count": 7,
   "id": "16dc81e3",
   "metadata": {
    "execution": {
     "iopub.execute_input": "2024-03-25T13:38:12.066119Z",
     "iopub.status.busy": "2024-03-25T13:38:12.065372Z",
     "iopub.status.idle": "2024-03-25T13:38:12.104517Z",
     "shell.execute_reply": "2024-03-25T13:38:12.102117Z"
    },
    "papermill": {
     "duration": 0.056853,
     "end_time": "2024-03-25T13:38:12.107092",
     "exception": false,
     "start_time": "2024-03-25T13:38:12.050239",
     "status": "completed"
    },
    "tags": []
   },
   "outputs": [
    {
     "name": "stdout",
     "output_type": "stream",
     "text": [
      "<class 'pandas.core.frame.DataFrame'>\n",
      "RangeIndex: 284807 entries, 0 to 284806\n",
      "Data columns (total 31 columns):\n",
      " #   Column  Non-Null Count   Dtype  \n",
      "---  ------  --------------   -----  \n",
      " 0   Time    284807 non-null  float64\n",
      " 1   V1      284807 non-null  float64\n",
      " 2   V2      284807 non-null  float64\n",
      " 3   V3      284807 non-null  float64\n",
      " 4   V4      284807 non-null  float64\n",
      " 5   V5      284807 non-null  float64\n",
      " 6   V6      284807 non-null  float64\n",
      " 7   V7      284807 non-null  float64\n",
      " 8   V8      284807 non-null  float64\n",
      " 9   V9      284807 non-null  float64\n",
      " 10  V10     284807 non-null  float64\n",
      " 11  V11     284807 non-null  float64\n",
      " 12  V12     284807 non-null  float64\n",
      " 13  V13     284807 non-null  float64\n",
      " 14  V14     284807 non-null  float64\n",
      " 15  V15     284807 non-null  float64\n",
      " 16  V16     284807 non-null  float64\n",
      " 17  V17     284807 non-null  float64\n",
      " 18  V18     284807 non-null  float64\n",
      " 19  V19     284807 non-null  float64\n",
      " 20  V20     284807 non-null  float64\n",
      " 21  V21     284807 non-null  float64\n",
      " 22  V22     284807 non-null  float64\n",
      " 23  V23     284807 non-null  float64\n",
      " 24  V24     284807 non-null  float64\n",
      " 25  V25     284807 non-null  float64\n",
      " 26  V26     284807 non-null  float64\n",
      " 27  V27     284807 non-null  float64\n",
      " 28  V28     284807 non-null  float64\n",
      " 29  Amount  284807 non-null  float64\n",
      " 30  Class   284807 non-null  int64  \n",
      "dtypes: float64(30), int64(1)\n",
      "memory usage: 67.4 MB\n"
     ]
    }
   ],
   "source": [
    "data.info()"
   ]
  },
  {
   "cell_type": "code",
   "execution_count": 8,
   "id": "be854039",
   "metadata": {
    "execution": {
     "iopub.execute_input": "2024-03-25T13:38:12.137085Z",
     "iopub.status.busy": "2024-03-25T13:38:12.136630Z",
     "iopub.status.idle": "2024-03-25T13:38:12.158692Z",
     "shell.execute_reply": "2024-03-25T13:38:12.157528Z"
    },
    "papermill": {
     "duration": 0.039944,
     "end_time": "2024-03-25T13:38:12.161202",
     "exception": false,
     "start_time": "2024-03-25T13:38:12.121258",
     "status": "completed"
    },
    "tags": []
   },
   "outputs": [
    {
     "data": {
      "text/plain": [
       "Time      0\n",
       "V1        0\n",
       "V2        0\n",
       "V3        0\n",
       "V4        0\n",
       "V5        0\n",
       "V6        0\n",
       "V7        0\n",
       "V8        0\n",
       "V9        0\n",
       "V10       0\n",
       "V11       0\n",
       "V12       0\n",
       "V13       0\n",
       "V14       0\n",
       "V15       0\n",
       "V16       0\n",
       "V17       0\n",
       "V18       0\n",
       "V19       0\n",
       "V20       0\n",
       "V21       0\n",
       "V22       0\n",
       "V23       0\n",
       "V24       0\n",
       "V25       0\n",
       "V26       0\n",
       "V27       0\n",
       "V28       0\n",
       "Amount    0\n",
       "Class     0\n",
       "dtype: int64"
      ]
     },
     "execution_count": 8,
     "metadata": {},
     "output_type": "execute_result"
    }
   ],
   "source": [
    "#checking the missing values\n",
    "data.isnull().sum()"
   ]
  },
  {
   "cell_type": "markdown",
   "id": "29de47d8",
   "metadata": {
    "papermill": {
     "duration": 0.013722,
     "end_time": "2024-03-25T13:38:12.189204",
     "exception": false,
     "start_time": "2024-03-25T13:38:12.175482",
     "status": "completed"
    },
    "tags": []
   },
   "source": [
    "we don't have any missing values in the dataset."
   ]
  },
  {
   "cell_type": "code",
   "execution_count": 9,
   "id": "68d7d14d",
   "metadata": {
    "execution": {
     "iopub.execute_input": "2024-03-25T13:38:12.219407Z",
     "iopub.status.busy": "2024-03-25T13:38:12.218979Z",
     "iopub.status.idle": "2024-03-25T13:38:12.232539Z",
     "shell.execute_reply": "2024-03-25T13:38:12.231416Z"
    },
    "papermill": {
     "duration": 0.031251,
     "end_time": "2024-03-25T13:38:12.234833",
     "exception": false,
     "start_time": "2024-03-25T13:38:12.203582",
     "status": "completed"
    },
    "tags": []
   },
   "outputs": [
    {
     "data": {
      "text/plain": [
       "Class\n",
       "0    284315\n",
       "1       492\n",
       "Name: count, dtype: int64"
      ]
     },
     "execution_count": 9,
     "metadata": {},
     "output_type": "execute_result"
    }
   ],
   "source": [
    "#distribution of transactions\n",
    "data['Class'].value_counts()"
   ]
  },
  {
   "cell_type": "markdown",
   "id": "20f26b96",
   "metadata": {
    "papermill": {
     "duration": 0.014442,
     "end_time": "2024-03-25T13:38:12.264057",
     "exception": false,
     "start_time": "2024-03-25T13:38:12.249615",
     "status": "completed"
    },
    "tags": []
   },
   "source": [
    "This is a highly unbalanced dataset\n",
    "\n",
    "0 ---> Normal cases\n",
    "\n",
    "1 ---> Fraud cases"
   ]
  },
  {
   "cell_type": "code",
   "execution_count": 10,
   "id": "bd942055",
   "metadata": {
    "execution": {
     "iopub.execute_input": "2024-03-25T13:38:12.295150Z",
     "iopub.status.busy": "2024-03-25T13:38:12.294728Z",
     "iopub.status.idle": "2024-03-25T13:38:12.331889Z",
     "shell.execute_reply": "2024-03-25T13:38:12.330989Z"
    },
    "papermill": {
     "duration": 0.055627,
     "end_time": "2024-03-25T13:38:12.334608",
     "exception": false,
     "start_time": "2024-03-25T13:38:12.278981",
     "status": "completed"
    },
    "tags": []
   },
   "outputs": [],
   "source": [
    "legit=data[data.Class==0]\n",
    "fraud=data[data.Class==1]"
   ]
  },
  {
   "cell_type": "code",
   "execution_count": 11,
   "id": "f56b41b5",
   "metadata": {
    "execution": {
     "iopub.execute_input": "2024-03-25T13:38:12.366453Z",
     "iopub.status.busy": "2024-03-25T13:38:12.365236Z",
     "iopub.status.idle": "2024-03-25T13:38:12.371149Z",
     "shell.execute_reply": "2024-03-25T13:38:12.370251Z"
    },
    "papermill": {
     "duration": 0.024105,
     "end_time": "2024-03-25T13:38:12.373628",
     "exception": false,
     "start_time": "2024-03-25T13:38:12.349523",
     "status": "completed"
    },
    "tags": []
   },
   "outputs": [
    {
     "name": "stdout",
     "output_type": "stream",
     "text": [
      "(284315, 31)\n"
     ]
    }
   ],
   "source": [
    "print(legit.shape)"
   ]
  },
  {
   "cell_type": "code",
   "execution_count": 12,
   "id": "e7da21b2",
   "metadata": {
    "execution": {
     "iopub.execute_input": "2024-03-25T13:38:12.406521Z",
     "iopub.status.busy": "2024-03-25T13:38:12.406080Z",
     "iopub.status.idle": "2024-03-25T13:38:12.411733Z",
     "shell.execute_reply": "2024-03-25T13:38:12.410692Z"
    },
    "papermill": {
     "duration": 0.024952,
     "end_time": "2024-03-25T13:38:12.414244",
     "exception": false,
     "start_time": "2024-03-25T13:38:12.389292",
     "status": "completed"
    },
    "tags": []
   },
   "outputs": [
    {
     "name": "stdout",
     "output_type": "stream",
     "text": [
      "(492, 31)\n"
     ]
    }
   ],
   "source": [
    "print(fraud.shape)"
   ]
  },
  {
   "cell_type": "code",
   "execution_count": 13,
   "id": "3d59ab81",
   "metadata": {
    "execution": {
     "iopub.execute_input": "2024-03-25T13:38:12.445663Z",
     "iopub.status.busy": "2024-03-25T13:38:12.445224Z",
     "iopub.status.idle": "2024-03-25T13:38:12.469026Z",
     "shell.execute_reply": "2024-03-25T13:38:12.467709Z"
    },
    "papermill": {
     "duration": 0.042627,
     "end_time": "2024-03-25T13:38:12.471696",
     "exception": false,
     "start_time": "2024-03-25T13:38:12.429069",
     "status": "completed"
    },
    "tags": []
   },
   "outputs": [
    {
     "data": {
      "text/plain": [
       "count    284315.000000\n",
       "mean         88.291022\n",
       "std         250.105092\n",
       "min           0.000000\n",
       "25%           5.650000\n",
       "50%          22.000000\n",
       "75%          77.050000\n",
       "max       25691.160000\n",
       "Name: Amount, dtype: float64"
      ]
     },
     "execution_count": 13,
     "metadata": {},
     "output_type": "execute_result"
    }
   ],
   "source": [
    "#measures of the data\n",
    "legit.Amount.describe()"
   ]
  },
  {
   "cell_type": "code",
   "execution_count": 14,
   "id": "884307d7",
   "metadata": {
    "execution": {
     "iopub.execute_input": "2024-03-25T13:38:12.502925Z",
     "iopub.status.busy": "2024-03-25T13:38:12.502491Z",
     "iopub.status.idle": "2024-03-25T13:38:12.525394Z",
     "shell.execute_reply": "2024-03-25T13:38:12.524025Z"
    },
    "papermill": {
     "duration": 0.041351,
     "end_time": "2024-03-25T13:38:12.527877",
     "exception": false,
     "start_time": "2024-03-25T13:38:12.486526",
     "status": "completed"
    },
    "tags": []
   },
   "outputs": [
    {
     "data": {
      "text/plain": [
       "count    284315.000000\n",
       "mean         88.291022\n",
       "std         250.105092\n",
       "min           0.000000\n",
       "25%           5.650000\n",
       "50%          22.000000\n",
       "75%          77.050000\n",
       "max       25691.160000\n",
       "Name: Amount, dtype: float64"
      ]
     },
     "execution_count": 14,
     "metadata": {},
     "output_type": "execute_result"
    }
   ],
   "source": [
    "#measures of the data\n",
    "legit.Amount.describe()"
   ]
  },
  {
   "cell_type": "markdown",
   "id": "c4badca9",
   "metadata": {
    "papermill": {
     "duration": 0.014537,
     "end_time": "2024-03-25T13:38:12.557403",
     "exception": false,
     "start_time": "2024-03-25T13:38:12.542866",
     "status": "completed"
    },
    "tags": []
   },
   "source": [
    "It shows the differences between legit and fraud cases"
   ]
  },
  {
   "cell_type": "markdown",
   "id": "f5191c98",
   "metadata": {
    "papermill": {
     "duration": 0.014595,
     "end_time": "2024-03-25T13:38:12.587082",
     "exception": false,
     "start_time": "2024-03-25T13:38:12.572487",
     "status": "completed"
    },
    "tags": []
   },
   "source": [
    "# Under sampling\n",
    "\n",
    "Build a dataset containing equal number of normal and fraud cases.\n",
    "\n",
    "Fraud cases= 492\n",
    "\n",
    "so we take 492 normal cases to build a dataset"
   ]
  },
  {
   "cell_type": "code",
   "execution_count": 15,
   "id": "3403fddf",
   "metadata": {
    "execution": {
     "iopub.execute_input": "2024-03-25T13:38:12.619323Z",
     "iopub.status.busy": "2024-03-25T13:38:12.618908Z",
     "iopub.status.idle": "2024-03-25T13:38:12.633877Z",
     "shell.execute_reply": "2024-03-25T13:38:12.632747Z"
    },
    "papermill": {
     "duration": 0.03407,
     "end_time": "2024-03-25T13:38:12.636145",
     "exception": false,
     "start_time": "2024-03-25T13:38:12.602075",
     "status": "completed"
    },
    "tags": []
   },
   "outputs": [],
   "source": [
    "legit_sample= legit.sample(n=492)"
   ]
  },
  {
   "cell_type": "markdown",
   "id": "7440e645",
   "metadata": {
    "papermill": {
     "duration": 0.015755,
     "end_time": "2024-03-25T13:38:12.666822",
     "exception": false,
     "start_time": "2024-03-25T13:38:12.651067",
     "status": "completed"
    },
    "tags": []
   },
   "source": [
    "concat two dataframes"
   ]
  },
  {
   "cell_type": "code",
   "execution_count": 16,
   "id": "5371f23c",
   "metadata": {
    "execution": {
     "iopub.execute_input": "2024-03-25T13:38:12.699103Z",
     "iopub.status.busy": "2024-03-25T13:38:12.698644Z",
     "iopub.status.idle": "2024-03-25T13:38:12.705240Z",
     "shell.execute_reply": "2024-03-25T13:38:12.703787Z"
    },
    "papermill": {
     "duration": 0.025757,
     "end_time": "2024-03-25T13:38:12.707956",
     "exception": false,
     "start_time": "2024-03-25T13:38:12.682199",
     "status": "completed"
    },
    "tags": []
   },
   "outputs": [],
   "source": [
    "new_df = pd.concat([legit_sample, fraud], axis=0)"
   ]
  },
  {
   "cell_type": "code",
   "execution_count": 17,
   "id": "c499ff7d",
   "metadata": {
    "execution": {
     "iopub.execute_input": "2024-03-25T13:38:12.739649Z",
     "iopub.status.busy": "2024-03-25T13:38:12.739006Z",
     "iopub.status.idle": "2024-03-25T13:38:12.766440Z",
     "shell.execute_reply": "2024-03-25T13:38:12.765160Z"
    },
    "papermill": {
     "duration": 0.046195,
     "end_time": "2024-03-25T13:38:12.769053",
     "exception": false,
     "start_time": "2024-03-25T13:38:12.722858",
     "status": "completed"
    },
    "tags": []
   },
   "outputs": [
    {
     "data": {
      "text/html": [
       "<div>\n",
       "<style scoped>\n",
       "    .dataframe tbody tr th:only-of-type {\n",
       "        vertical-align: middle;\n",
       "    }\n",
       "\n",
       "    .dataframe tbody tr th {\n",
       "        vertical-align: top;\n",
       "    }\n",
       "\n",
       "    .dataframe thead th {\n",
       "        text-align: right;\n",
       "    }\n",
       "</style>\n",
       "<table border=\"1\" class=\"dataframe\">\n",
       "  <thead>\n",
       "    <tr style=\"text-align: right;\">\n",
       "      <th></th>\n",
       "      <th>Time</th>\n",
       "      <th>V1</th>\n",
       "      <th>V2</th>\n",
       "      <th>V3</th>\n",
       "      <th>V4</th>\n",
       "      <th>V5</th>\n",
       "      <th>V6</th>\n",
       "      <th>V7</th>\n",
       "      <th>V8</th>\n",
       "      <th>V9</th>\n",
       "      <th>...</th>\n",
       "      <th>V21</th>\n",
       "      <th>V22</th>\n",
       "      <th>V23</th>\n",
       "      <th>V24</th>\n",
       "      <th>V25</th>\n",
       "      <th>V26</th>\n",
       "      <th>V27</th>\n",
       "      <th>V28</th>\n",
       "      <th>Amount</th>\n",
       "      <th>Class</th>\n",
       "    </tr>\n",
       "  </thead>\n",
       "  <tbody>\n",
       "    <tr>\n",
       "      <th>116592</th>\n",
       "      <td>74347.0</td>\n",
       "      <td>0.957511</td>\n",
       "      <td>0.043381</td>\n",
       "      <td>1.578722</td>\n",
       "      <td>2.783521</td>\n",
       "      <td>-0.835174</td>\n",
       "      <td>0.443447</td>\n",
       "      <td>-0.563983</td>\n",
       "      <td>0.272921</td>\n",
       "      <td>0.093474</td>\n",
       "      <td>...</td>\n",
       "      <td>-0.006443</td>\n",
       "      <td>0.045136</td>\n",
       "      <td>0.069789</td>\n",
       "      <td>0.389006</td>\n",
       "      <td>0.158265</td>\n",
       "      <td>-0.038847</td>\n",
       "      <td>0.049287</td>\n",
       "      <td>0.044516</td>\n",
       "      <td>52.96</td>\n",
       "      <td>0</td>\n",
       "    </tr>\n",
       "    <tr>\n",
       "      <th>92652</th>\n",
       "      <td>64031.0</td>\n",
       "      <td>-1.831995</td>\n",
       "      <td>2.678900</td>\n",
       "      <td>1.537682</td>\n",
       "      <td>2.417877</td>\n",
       "      <td>-0.243790</td>\n",
       "      <td>-0.385183</td>\n",
       "      <td>0.755819</td>\n",
       "      <td>-0.251772</td>\n",
       "      <td>-0.141112</td>\n",
       "      <td>...</td>\n",
       "      <td>-0.356477</td>\n",
       "      <td>-0.477575</td>\n",
       "      <td>0.075173</td>\n",
       "      <td>0.670372</td>\n",
       "      <td>-0.178312</td>\n",
       "      <td>-0.090872</td>\n",
       "      <td>0.569127</td>\n",
       "      <td>0.355916</td>\n",
       "      <td>2.69</td>\n",
       "      <td>0</td>\n",
       "    </tr>\n",
       "    <tr>\n",
       "      <th>159525</th>\n",
       "      <td>112602.0</td>\n",
       "      <td>-0.411370</td>\n",
       "      <td>0.633960</td>\n",
       "      <td>-1.052740</td>\n",
       "      <td>-0.976097</td>\n",
       "      <td>1.625232</td>\n",
       "      <td>-0.410940</td>\n",
       "      <td>1.070759</td>\n",
       "      <td>-0.983025</td>\n",
       "      <td>-0.598325</td>\n",
       "      <td>...</td>\n",
       "      <td>1.007529</td>\n",
       "      <td>0.561027</td>\n",
       "      <td>-0.126824</td>\n",
       "      <td>0.291419</td>\n",
       "      <td>-0.502281</td>\n",
       "      <td>0.635622</td>\n",
       "      <td>0.219366</td>\n",
       "      <td>0.178745</td>\n",
       "      <td>44.99</td>\n",
       "      <td>0</td>\n",
       "    </tr>\n",
       "    <tr>\n",
       "      <th>136414</th>\n",
       "      <td>81694.0</td>\n",
       "      <td>-0.692243</td>\n",
       "      <td>1.262436</td>\n",
       "      <td>0.675831</td>\n",
       "      <td>0.835701</td>\n",
       "      <td>-0.146527</td>\n",
       "      <td>-0.645989</td>\n",
       "      <td>0.440636</td>\n",
       "      <td>0.371261</td>\n",
       "      <td>-0.560810</td>\n",
       "      <td>...</td>\n",
       "      <td>0.135116</td>\n",
       "      <td>0.337056</td>\n",
       "      <td>-0.089662</td>\n",
       "      <td>0.013203</td>\n",
       "      <td>-0.142714</td>\n",
       "      <td>-0.291071</td>\n",
       "      <td>0.279452</td>\n",
       "      <td>0.151247</td>\n",
       "      <td>29.60</td>\n",
       "      <td>0</td>\n",
       "    </tr>\n",
       "    <tr>\n",
       "      <th>271534</th>\n",
       "      <td>164619.0</td>\n",
       "      <td>1.937909</td>\n",
       "      <td>-0.291381</td>\n",
       "      <td>-1.418621</td>\n",
       "      <td>-0.005448</td>\n",
       "      <td>0.772338</td>\n",
       "      <td>0.908070</td>\n",
       "      <td>-0.196313</td>\n",
       "      <td>0.297322</td>\n",
       "      <td>0.377805</td>\n",
       "      <td>...</td>\n",
       "      <td>-0.203569</td>\n",
       "      <td>-0.397489</td>\n",
       "      <td>0.339281</td>\n",
       "      <td>-1.642520</td>\n",
       "      <td>-0.471915</td>\n",
       "      <td>0.311480</td>\n",
       "      <td>-0.028074</td>\n",
       "      <td>-0.088283</td>\n",
       "      <td>0.89</td>\n",
       "      <td>0</td>\n",
       "    </tr>\n",
       "  </tbody>\n",
       "</table>\n",
       "<p>5 rows × 31 columns</p>\n",
       "</div>"
      ],
      "text/plain": [
       "            Time        V1        V2        V3        V4        V5        V6  \\\n",
       "116592   74347.0  0.957511  0.043381  1.578722  2.783521 -0.835174  0.443447   \n",
       "92652    64031.0 -1.831995  2.678900  1.537682  2.417877 -0.243790 -0.385183   \n",
       "159525  112602.0 -0.411370  0.633960 -1.052740 -0.976097  1.625232 -0.410940   \n",
       "136414   81694.0 -0.692243  1.262436  0.675831  0.835701 -0.146527 -0.645989   \n",
       "271534  164619.0  1.937909 -0.291381 -1.418621 -0.005448  0.772338  0.908070   \n",
       "\n",
       "              V7        V8        V9  ...       V21       V22       V23  \\\n",
       "116592 -0.563983  0.272921  0.093474  ... -0.006443  0.045136  0.069789   \n",
       "92652   0.755819 -0.251772 -0.141112  ... -0.356477 -0.477575  0.075173   \n",
       "159525  1.070759 -0.983025 -0.598325  ...  1.007529  0.561027 -0.126824   \n",
       "136414  0.440636  0.371261 -0.560810  ...  0.135116  0.337056 -0.089662   \n",
       "271534 -0.196313  0.297322  0.377805  ... -0.203569 -0.397489  0.339281   \n",
       "\n",
       "             V24       V25       V26       V27       V28  Amount  Class  \n",
       "116592  0.389006  0.158265 -0.038847  0.049287  0.044516   52.96      0  \n",
       "92652   0.670372 -0.178312 -0.090872  0.569127  0.355916    2.69      0  \n",
       "159525  0.291419 -0.502281  0.635622  0.219366  0.178745   44.99      0  \n",
       "136414  0.013203 -0.142714 -0.291071  0.279452  0.151247   29.60      0  \n",
       "271534 -1.642520 -0.471915  0.311480 -0.028074 -0.088283    0.89      0  \n",
       "\n",
       "[5 rows x 31 columns]"
      ]
     },
     "execution_count": 17,
     "metadata": {},
     "output_type": "execute_result"
    }
   ],
   "source": [
    "#exploring new dataframe\n",
    "new_df.head()"
   ]
  },
  {
   "cell_type": "code",
   "execution_count": 18,
   "id": "130f6013",
   "metadata": {
    "execution": {
     "iopub.execute_input": "2024-03-25T13:38:12.802488Z",
     "iopub.status.busy": "2024-03-25T13:38:12.801343Z",
     "iopub.status.idle": "2024-03-25T13:38:12.829475Z",
     "shell.execute_reply": "2024-03-25T13:38:12.828371Z"
    },
    "papermill": {
     "duration": 0.047242,
     "end_time": "2024-03-25T13:38:12.831790",
     "exception": false,
     "start_time": "2024-03-25T13:38:12.784548",
     "status": "completed"
    },
    "tags": []
   },
   "outputs": [
    {
     "data": {
      "text/html": [
       "<div>\n",
       "<style scoped>\n",
       "    .dataframe tbody tr th:only-of-type {\n",
       "        vertical-align: middle;\n",
       "    }\n",
       "\n",
       "    .dataframe tbody tr th {\n",
       "        vertical-align: top;\n",
       "    }\n",
       "\n",
       "    .dataframe thead th {\n",
       "        text-align: right;\n",
       "    }\n",
       "</style>\n",
       "<table border=\"1\" class=\"dataframe\">\n",
       "  <thead>\n",
       "    <tr style=\"text-align: right;\">\n",
       "      <th></th>\n",
       "      <th>Time</th>\n",
       "      <th>V1</th>\n",
       "      <th>V2</th>\n",
       "      <th>V3</th>\n",
       "      <th>V4</th>\n",
       "      <th>V5</th>\n",
       "      <th>V6</th>\n",
       "      <th>V7</th>\n",
       "      <th>V8</th>\n",
       "      <th>V9</th>\n",
       "      <th>...</th>\n",
       "      <th>V21</th>\n",
       "      <th>V22</th>\n",
       "      <th>V23</th>\n",
       "      <th>V24</th>\n",
       "      <th>V25</th>\n",
       "      <th>V26</th>\n",
       "      <th>V27</th>\n",
       "      <th>V28</th>\n",
       "      <th>Amount</th>\n",
       "      <th>Class</th>\n",
       "    </tr>\n",
       "  </thead>\n",
       "  <tbody>\n",
       "    <tr>\n",
       "      <th>279863</th>\n",
       "      <td>169142.0</td>\n",
       "      <td>-1.927883</td>\n",
       "      <td>1.125653</td>\n",
       "      <td>-4.518331</td>\n",
       "      <td>1.749293</td>\n",
       "      <td>-1.566487</td>\n",
       "      <td>-2.010494</td>\n",
       "      <td>-0.882850</td>\n",
       "      <td>0.697211</td>\n",
       "      <td>-2.064945</td>\n",
       "      <td>...</td>\n",
       "      <td>0.778584</td>\n",
       "      <td>-0.319189</td>\n",
       "      <td>0.639419</td>\n",
       "      <td>-0.294885</td>\n",
       "      <td>0.537503</td>\n",
       "      <td>0.788395</td>\n",
       "      <td>0.292680</td>\n",
       "      <td>0.147968</td>\n",
       "      <td>390.00</td>\n",
       "      <td>1</td>\n",
       "    </tr>\n",
       "    <tr>\n",
       "      <th>280143</th>\n",
       "      <td>169347.0</td>\n",
       "      <td>1.378559</td>\n",
       "      <td>1.289381</td>\n",
       "      <td>-5.004247</td>\n",
       "      <td>1.411850</td>\n",
       "      <td>0.442581</td>\n",
       "      <td>-1.326536</td>\n",
       "      <td>-1.413170</td>\n",
       "      <td>0.248525</td>\n",
       "      <td>-1.127396</td>\n",
       "      <td>...</td>\n",
       "      <td>0.370612</td>\n",
       "      <td>0.028234</td>\n",
       "      <td>-0.145640</td>\n",
       "      <td>-0.081049</td>\n",
       "      <td>0.521875</td>\n",
       "      <td>0.739467</td>\n",
       "      <td>0.389152</td>\n",
       "      <td>0.186637</td>\n",
       "      <td>0.76</td>\n",
       "      <td>1</td>\n",
       "    </tr>\n",
       "    <tr>\n",
       "      <th>280149</th>\n",
       "      <td>169351.0</td>\n",
       "      <td>-0.676143</td>\n",
       "      <td>1.126366</td>\n",
       "      <td>-2.213700</td>\n",
       "      <td>0.468308</td>\n",
       "      <td>-1.120541</td>\n",
       "      <td>-0.003346</td>\n",
       "      <td>-2.234739</td>\n",
       "      <td>1.210158</td>\n",
       "      <td>-0.652250</td>\n",
       "      <td>...</td>\n",
       "      <td>0.751826</td>\n",
       "      <td>0.834108</td>\n",
       "      <td>0.190944</td>\n",
       "      <td>0.032070</td>\n",
       "      <td>-0.739695</td>\n",
       "      <td>0.471111</td>\n",
       "      <td>0.385107</td>\n",
       "      <td>0.194361</td>\n",
       "      <td>77.89</td>\n",
       "      <td>1</td>\n",
       "    </tr>\n",
       "    <tr>\n",
       "      <th>281144</th>\n",
       "      <td>169966.0</td>\n",
       "      <td>-3.113832</td>\n",
       "      <td>0.585864</td>\n",
       "      <td>-5.399730</td>\n",
       "      <td>1.817092</td>\n",
       "      <td>-0.840618</td>\n",
       "      <td>-2.943548</td>\n",
       "      <td>-2.208002</td>\n",
       "      <td>1.058733</td>\n",
       "      <td>-1.632333</td>\n",
       "      <td>...</td>\n",
       "      <td>0.583276</td>\n",
       "      <td>-0.269209</td>\n",
       "      <td>-0.456108</td>\n",
       "      <td>-0.183659</td>\n",
       "      <td>-0.328168</td>\n",
       "      <td>0.606116</td>\n",
       "      <td>0.884876</td>\n",
       "      <td>-0.253700</td>\n",
       "      <td>245.00</td>\n",
       "      <td>1</td>\n",
       "    </tr>\n",
       "    <tr>\n",
       "      <th>281674</th>\n",
       "      <td>170348.0</td>\n",
       "      <td>1.991976</td>\n",
       "      <td>0.158476</td>\n",
       "      <td>-2.583441</td>\n",
       "      <td>0.408670</td>\n",
       "      <td>1.151147</td>\n",
       "      <td>-0.096695</td>\n",
       "      <td>0.223050</td>\n",
       "      <td>-0.068384</td>\n",
       "      <td>0.577829</td>\n",
       "      <td>...</td>\n",
       "      <td>-0.164350</td>\n",
       "      <td>-0.295135</td>\n",
       "      <td>-0.072173</td>\n",
       "      <td>-0.450261</td>\n",
       "      <td>0.313267</td>\n",
       "      <td>-0.289617</td>\n",
       "      <td>0.002988</td>\n",
       "      <td>-0.015309</td>\n",
       "      <td>42.53</td>\n",
       "      <td>1</td>\n",
       "    </tr>\n",
       "  </tbody>\n",
       "</table>\n",
       "<p>5 rows × 31 columns</p>\n",
       "</div>"
      ],
      "text/plain": [
       "            Time        V1        V2        V3        V4        V5        V6  \\\n",
       "279863  169142.0 -1.927883  1.125653 -4.518331  1.749293 -1.566487 -2.010494   \n",
       "280143  169347.0  1.378559  1.289381 -5.004247  1.411850  0.442581 -1.326536   \n",
       "280149  169351.0 -0.676143  1.126366 -2.213700  0.468308 -1.120541 -0.003346   \n",
       "281144  169966.0 -3.113832  0.585864 -5.399730  1.817092 -0.840618 -2.943548   \n",
       "281674  170348.0  1.991976  0.158476 -2.583441  0.408670  1.151147 -0.096695   \n",
       "\n",
       "              V7        V8        V9  ...       V21       V22       V23  \\\n",
       "279863 -0.882850  0.697211 -2.064945  ...  0.778584 -0.319189  0.639419   \n",
       "280143 -1.413170  0.248525 -1.127396  ...  0.370612  0.028234 -0.145640   \n",
       "280149 -2.234739  1.210158 -0.652250  ...  0.751826  0.834108  0.190944   \n",
       "281144 -2.208002  1.058733 -1.632333  ...  0.583276 -0.269209 -0.456108   \n",
       "281674  0.223050 -0.068384  0.577829  ... -0.164350 -0.295135 -0.072173   \n",
       "\n",
       "             V24       V25       V26       V27       V28  Amount  Class  \n",
       "279863 -0.294885  0.537503  0.788395  0.292680  0.147968  390.00      1  \n",
       "280143 -0.081049  0.521875  0.739467  0.389152  0.186637    0.76      1  \n",
       "280149  0.032070 -0.739695  0.471111  0.385107  0.194361   77.89      1  \n",
       "281144 -0.183659 -0.328168  0.606116  0.884876 -0.253700  245.00      1  \n",
       "281674 -0.450261  0.313267 -0.289617  0.002988 -0.015309   42.53      1  \n",
       "\n",
       "[5 rows x 31 columns]"
      ]
     },
     "execution_count": 18,
     "metadata": {},
     "output_type": "execute_result"
    }
   ],
   "source": [
    "new_df.tail()"
   ]
  },
  {
   "cell_type": "code",
   "execution_count": 19,
   "id": "60cd4932",
   "metadata": {
    "execution": {
     "iopub.execute_input": "2024-03-25T13:38:12.866352Z",
     "iopub.status.busy": "2024-03-25T13:38:12.865642Z",
     "iopub.status.idle": "2024-03-25T13:38:12.878141Z",
     "shell.execute_reply": "2024-03-25T13:38:12.877023Z"
    },
    "papermill": {
     "duration": 0.032902,
     "end_time": "2024-03-25T13:38:12.880832",
     "exception": false,
     "start_time": "2024-03-25T13:38:12.847930",
     "status": "completed"
    },
    "tags": []
   },
   "outputs": [
    {
     "name": "stdout",
     "output_type": "stream",
     "text": [
      "<class 'pandas.core.frame.DataFrame'>\n",
      "Index: 984 entries, 116592 to 281674\n",
      "Data columns (total 31 columns):\n",
      " #   Column  Non-Null Count  Dtype  \n",
      "---  ------  --------------  -----  \n",
      " 0   Time    984 non-null    float64\n",
      " 1   V1      984 non-null    float64\n",
      " 2   V2      984 non-null    float64\n",
      " 3   V3      984 non-null    float64\n",
      " 4   V4      984 non-null    float64\n",
      " 5   V5      984 non-null    float64\n",
      " 6   V6      984 non-null    float64\n",
      " 7   V7      984 non-null    float64\n",
      " 8   V8      984 non-null    float64\n",
      " 9   V9      984 non-null    float64\n",
      " 10  V10     984 non-null    float64\n",
      " 11  V11     984 non-null    float64\n",
      " 12  V12     984 non-null    float64\n",
      " 13  V13     984 non-null    float64\n",
      " 14  V14     984 non-null    float64\n",
      " 15  V15     984 non-null    float64\n",
      " 16  V16     984 non-null    float64\n",
      " 17  V17     984 non-null    float64\n",
      " 18  V18     984 non-null    float64\n",
      " 19  V19     984 non-null    float64\n",
      " 20  V20     984 non-null    float64\n",
      " 21  V21     984 non-null    float64\n",
      " 22  V22     984 non-null    float64\n",
      " 23  V23     984 non-null    float64\n",
      " 24  V24     984 non-null    float64\n",
      " 25  V25     984 non-null    float64\n",
      " 26  V26     984 non-null    float64\n",
      " 27  V27     984 non-null    float64\n",
      " 28  V28     984 non-null    float64\n",
      " 29  Amount  984 non-null    float64\n",
      " 30  Class   984 non-null    int64  \n",
      "dtypes: float64(30), int64(1)\n",
      "memory usage: 246.0 KB\n"
     ]
    }
   ],
   "source": [
    "new_df.info()"
   ]
  },
  {
   "cell_type": "code",
   "execution_count": 20,
   "id": "b12ae055",
   "metadata": {
    "execution": {
     "iopub.execute_input": "2024-03-25T13:38:12.915259Z",
     "iopub.status.busy": "2024-03-25T13:38:12.914850Z",
     "iopub.status.idle": "2024-03-25T13:38:12.924101Z",
     "shell.execute_reply": "2024-03-25T13:38:12.923262Z"
    },
    "papermill": {
     "duration": 0.029987,
     "end_time": "2024-03-25T13:38:12.926932",
     "exception": false,
     "start_time": "2024-03-25T13:38:12.896945",
     "status": "completed"
    },
    "tags": []
   },
   "outputs": [
    {
     "data": {
      "text/plain": [
       "Class\n",
       "0    492\n",
       "1    492\n",
       "Name: count, dtype: int64"
      ]
     },
     "execution_count": 20,
     "metadata": {},
     "output_type": "execute_result"
    }
   ],
   "source": [
    "new_df['Class'].value_counts()"
   ]
  },
  {
   "cell_type": "code",
   "execution_count": 21,
   "id": "da44e334",
   "metadata": {
    "execution": {
     "iopub.execute_input": "2024-03-25T13:38:12.961619Z",
     "iopub.status.busy": "2024-03-25T13:38:12.961163Z",
     "iopub.status.idle": "2024-03-25T13:38:12.967988Z",
     "shell.execute_reply": "2024-03-25T13:38:12.966704Z"
    },
    "papermill": {
     "duration": 0.026659,
     "end_time": "2024-03-25T13:38:12.970392",
     "exception": false,
     "start_time": "2024-03-25T13:38:12.943733",
     "status": "completed"
    },
    "tags": []
   },
   "outputs": [],
   "source": [
    "x=new_df.drop(columns='Class', axis=1)\n",
    "y=new_df['Class']"
   ]
  },
  {
   "cell_type": "code",
   "execution_count": 22,
   "id": "6d7c349c",
   "metadata": {
    "execution": {
     "iopub.execute_input": "2024-03-25T13:38:13.004508Z",
     "iopub.status.busy": "2024-03-25T13:38:13.004046Z",
     "iopub.status.idle": "2024-03-25T13:38:13.024552Z",
     "shell.execute_reply": "2024-03-25T13:38:13.022871Z"
    },
    "papermill": {
     "duration": 0.040563,
     "end_time": "2024-03-25T13:38:13.027040",
     "exception": false,
     "start_time": "2024-03-25T13:38:12.986477",
     "status": "completed"
    },
    "tags": []
   },
   "outputs": [
    {
     "name": "stdout",
     "output_type": "stream",
     "text": [
      "            Time        V1        V2        V3        V4        V5        V6  \\\n",
      "116592   74347.0  0.957511  0.043381  1.578722  2.783521 -0.835174  0.443447   \n",
      "92652    64031.0 -1.831995  2.678900  1.537682  2.417877 -0.243790 -0.385183   \n",
      "159525  112602.0 -0.411370  0.633960 -1.052740 -0.976097  1.625232 -0.410940   \n",
      "136414   81694.0 -0.692243  1.262436  0.675831  0.835701 -0.146527 -0.645989   \n",
      "271534  164619.0  1.937909 -0.291381 -1.418621 -0.005448  0.772338  0.908070   \n",
      "...          ...       ...       ...       ...       ...       ...       ...   \n",
      "279863  169142.0 -1.927883  1.125653 -4.518331  1.749293 -1.566487 -2.010494   \n",
      "280143  169347.0  1.378559  1.289381 -5.004247  1.411850  0.442581 -1.326536   \n",
      "280149  169351.0 -0.676143  1.126366 -2.213700  0.468308 -1.120541 -0.003346   \n",
      "281144  169966.0 -3.113832  0.585864 -5.399730  1.817092 -0.840618 -2.943548   \n",
      "281674  170348.0  1.991976  0.158476 -2.583441  0.408670  1.151147 -0.096695   \n",
      "\n",
      "              V7        V8        V9  ...       V20       V21       V22  \\\n",
      "116592 -0.563983  0.272921  0.093474  ... -0.105299 -0.006443  0.045136   \n",
      "92652   0.755819 -0.251772 -0.141112  ...  1.123703 -0.356477 -0.477575   \n",
      "159525  1.070759 -0.983025 -0.598325  ... -0.410333  1.007529  0.561027   \n",
      "136414  0.440636  0.371261 -0.560810  ...  0.044323  0.135116  0.337056   \n",
      "271534 -0.196313  0.297322  0.377805  ... -0.315072 -0.203569 -0.397489   \n",
      "...          ...       ...       ...  ...       ...       ...       ...   \n",
      "279863 -0.882850  0.697211 -2.064945  ...  1.252967  0.778584 -0.319189   \n",
      "280143 -1.413170  0.248525 -1.127396  ...  0.226138  0.370612  0.028234   \n",
      "280149 -2.234739  1.210158 -0.652250  ...  0.247968  0.751826  0.834108   \n",
      "281144 -2.208002  1.058733 -1.632333  ...  0.306271  0.583276 -0.269209   \n",
      "281674  0.223050 -0.068384  0.577829  ... -0.017652 -0.164350 -0.295135   \n",
      "\n",
      "             V23       V24       V25       V26       V27       V28  Amount  \n",
      "116592  0.069789  0.389006  0.158265 -0.038847  0.049287  0.044516   52.96  \n",
      "92652   0.075173  0.670372 -0.178312 -0.090872  0.569127  0.355916    2.69  \n",
      "159525 -0.126824  0.291419 -0.502281  0.635622  0.219366  0.178745   44.99  \n",
      "136414 -0.089662  0.013203 -0.142714 -0.291071  0.279452  0.151247   29.60  \n",
      "271534  0.339281 -1.642520 -0.471915  0.311480 -0.028074 -0.088283    0.89  \n",
      "...          ...       ...       ...       ...       ...       ...     ...  \n",
      "279863  0.639419 -0.294885  0.537503  0.788395  0.292680  0.147968  390.00  \n",
      "280143 -0.145640 -0.081049  0.521875  0.739467  0.389152  0.186637    0.76  \n",
      "280149  0.190944  0.032070 -0.739695  0.471111  0.385107  0.194361   77.89  \n",
      "281144 -0.456108 -0.183659 -0.328168  0.606116  0.884876 -0.253700  245.00  \n",
      "281674 -0.072173 -0.450261  0.313267 -0.289617  0.002988 -0.015309   42.53  \n",
      "\n",
      "[984 rows x 30 columns]\n"
     ]
    }
   ],
   "source": [
    "print(x)"
   ]
  },
  {
   "cell_type": "code",
   "execution_count": 23,
   "id": "ce687583",
   "metadata": {
    "execution": {
     "iopub.execute_input": "2024-03-25T13:38:13.061905Z",
     "iopub.status.busy": "2024-03-25T13:38:13.060713Z",
     "iopub.status.idle": "2024-03-25T13:38:13.067252Z",
     "shell.execute_reply": "2024-03-25T13:38:13.066371Z"
    },
    "papermill": {
     "duration": 0.026624,
     "end_time": "2024-03-25T13:38:13.069890",
     "exception": false,
     "start_time": "2024-03-25T13:38:13.043266",
     "status": "completed"
    },
    "tags": []
   },
   "outputs": [
    {
     "name": "stdout",
     "output_type": "stream",
     "text": [
      "116592    0\n",
      "92652     0\n",
      "159525    0\n",
      "136414    0\n",
      "271534    0\n",
      "         ..\n",
      "279863    1\n",
      "280143    1\n",
      "280149    1\n",
      "281144    1\n",
      "281674    1\n",
      "Name: Class, Length: 984, dtype: int64\n"
     ]
    }
   ],
   "source": [
    "print(y)"
   ]
  },
  {
   "cell_type": "markdown",
   "id": "aa81bbb5",
   "metadata": {
    "papermill": {
     "duration": 0.015921,
     "end_time": "2024-03-25T13:38:13.102260",
     "exception": false,
     "start_time": "2024-03-25T13:38:13.086339",
     "status": "completed"
    },
    "tags": []
   },
   "source": [
    "# Train-Test Splitting"
   ]
  },
  {
   "cell_type": "code",
   "execution_count": 24,
   "id": "de166b9d",
   "metadata": {
    "execution": {
     "iopub.execute_input": "2024-03-25T13:38:13.137441Z",
     "iopub.status.busy": "2024-03-25T13:38:13.136987Z",
     "iopub.status.idle": "2024-03-25T13:38:13.146910Z",
     "shell.execute_reply": "2024-03-25T13:38:13.145592Z"
    },
    "papermill": {
     "duration": 0.030207,
     "end_time": "2024-03-25T13:38:13.149311",
     "exception": false,
     "start_time": "2024-03-25T13:38:13.119104",
     "status": "completed"
    },
    "tags": []
   },
   "outputs": [],
   "source": [
    "x_train,x_test,y_train,y_test = train_test_split(x,y,test_size=0.2, stratify=y, random_state=2)"
   ]
  },
  {
   "cell_type": "code",
   "execution_count": 25,
   "id": "624dfa92",
   "metadata": {
    "execution": {
     "iopub.execute_input": "2024-03-25T13:38:13.183723Z",
     "iopub.status.busy": "2024-03-25T13:38:13.183269Z",
     "iopub.status.idle": "2024-03-25T13:38:13.189375Z",
     "shell.execute_reply": "2024-03-25T13:38:13.187989Z"
    },
    "papermill": {
     "duration": 0.026244,
     "end_time": "2024-03-25T13:38:13.191779",
     "exception": false,
     "start_time": "2024-03-25T13:38:13.165535",
     "status": "completed"
    },
    "tags": []
   },
   "outputs": [
    {
     "name": "stdout",
     "output_type": "stream",
     "text": [
      "(984, 30) (787, 30) (197, 30)\n"
     ]
    }
   ],
   "source": [
    "print(x.shape, x_train.shape, x_test.shape)"
   ]
  },
  {
   "cell_type": "markdown",
   "id": "f6c71b8c",
   "metadata": {
    "papermill": {
     "duration": 0.077064,
     "end_time": "2024-03-25T13:38:13.285147",
     "exception": false,
     "start_time": "2024-03-25T13:38:13.208083",
     "status": "completed"
    },
    "tags": []
   },
   "source": [
    "# **Logistic Regression Model**"
   ]
  },
  {
   "cell_type": "code",
   "execution_count": 26,
   "id": "947e5ee7",
   "metadata": {
    "execution": {
     "iopub.execute_input": "2024-03-25T13:38:13.319783Z",
     "iopub.status.busy": "2024-03-25T13:38:13.319299Z",
     "iopub.status.idle": "2024-03-25T13:38:13.324396Z",
     "shell.execute_reply": "2024-03-25T13:38:13.323221Z"
    },
    "papermill": {
     "duration": 0.025397,
     "end_time": "2024-03-25T13:38:13.326793",
     "exception": false,
     "start_time": "2024-03-25T13:38:13.301396",
     "status": "completed"
    },
    "tags": []
   },
   "outputs": [],
   "source": [
    "model=LogisticRegression()"
   ]
  },
  {
   "cell_type": "code",
   "execution_count": 27,
   "id": "0b901d94",
   "metadata": {
    "execution": {
     "iopub.execute_input": "2024-03-25T13:38:13.361534Z",
     "iopub.status.busy": "2024-03-25T13:38:13.361091Z",
     "iopub.status.idle": "2024-03-25T13:38:13.549716Z",
     "shell.execute_reply": "2024-03-25T13:38:13.548798Z"
    },
    "papermill": {
     "duration": 0.208903,
     "end_time": "2024-03-25T13:38:13.552143",
     "exception": false,
     "start_time": "2024-03-25T13:38:13.343240",
     "status": "completed"
    },
    "tags": []
   },
   "outputs": [
    {
     "data": {
      "text/html": [
       "<style>#sk-container-id-1 {color: black;background-color: white;}#sk-container-id-1 pre{padding: 0;}#sk-container-id-1 div.sk-toggleable {background-color: white;}#sk-container-id-1 label.sk-toggleable__label {cursor: pointer;display: block;width: 100%;margin-bottom: 0;padding: 0.3em;box-sizing: border-box;text-align: center;}#sk-container-id-1 label.sk-toggleable__label-arrow:before {content: \"▸\";float: left;margin-right: 0.25em;color: #696969;}#sk-container-id-1 label.sk-toggleable__label-arrow:hover:before {color: black;}#sk-container-id-1 div.sk-estimator:hover label.sk-toggleable__label-arrow:before {color: black;}#sk-container-id-1 div.sk-toggleable__content {max-height: 0;max-width: 0;overflow: hidden;text-align: left;background-color: #f0f8ff;}#sk-container-id-1 div.sk-toggleable__content pre {margin: 0.2em;color: black;border-radius: 0.25em;background-color: #f0f8ff;}#sk-container-id-1 input.sk-toggleable__control:checked~div.sk-toggleable__content {max-height: 200px;max-width: 100%;overflow: auto;}#sk-container-id-1 input.sk-toggleable__control:checked~label.sk-toggleable__label-arrow:before {content: \"▾\";}#sk-container-id-1 div.sk-estimator input.sk-toggleable__control:checked~label.sk-toggleable__label {background-color: #d4ebff;}#sk-container-id-1 div.sk-label input.sk-toggleable__control:checked~label.sk-toggleable__label {background-color: #d4ebff;}#sk-container-id-1 input.sk-hidden--visually {border: 0;clip: rect(1px 1px 1px 1px);clip: rect(1px, 1px, 1px, 1px);height: 1px;margin: -1px;overflow: hidden;padding: 0;position: absolute;width: 1px;}#sk-container-id-1 div.sk-estimator {font-family: monospace;background-color: #f0f8ff;border: 1px dotted black;border-radius: 0.25em;box-sizing: border-box;margin-bottom: 0.5em;}#sk-container-id-1 div.sk-estimator:hover {background-color: #d4ebff;}#sk-container-id-1 div.sk-parallel-item::after {content: \"\";width: 100%;border-bottom: 1px solid gray;flex-grow: 1;}#sk-container-id-1 div.sk-label:hover label.sk-toggleable__label {background-color: #d4ebff;}#sk-container-id-1 div.sk-serial::before {content: \"\";position: absolute;border-left: 1px solid gray;box-sizing: border-box;top: 0;bottom: 0;left: 50%;z-index: 0;}#sk-container-id-1 div.sk-serial {display: flex;flex-direction: column;align-items: center;background-color: white;padding-right: 0.2em;padding-left: 0.2em;position: relative;}#sk-container-id-1 div.sk-item {position: relative;z-index: 1;}#sk-container-id-1 div.sk-parallel {display: flex;align-items: stretch;justify-content: center;background-color: white;position: relative;}#sk-container-id-1 div.sk-item::before, #sk-container-id-1 div.sk-parallel-item::before {content: \"\";position: absolute;border-left: 1px solid gray;box-sizing: border-box;top: 0;bottom: 0;left: 50%;z-index: -1;}#sk-container-id-1 div.sk-parallel-item {display: flex;flex-direction: column;z-index: 1;position: relative;background-color: white;}#sk-container-id-1 div.sk-parallel-item:first-child::after {align-self: flex-end;width: 50%;}#sk-container-id-1 div.sk-parallel-item:last-child::after {align-self: flex-start;width: 50%;}#sk-container-id-1 div.sk-parallel-item:only-child::after {width: 0;}#sk-container-id-1 div.sk-dashed-wrapped {border: 1px dashed gray;margin: 0 0.4em 0.5em 0.4em;box-sizing: border-box;padding-bottom: 0.4em;background-color: white;}#sk-container-id-1 div.sk-label label {font-family: monospace;font-weight: bold;display: inline-block;line-height: 1.2em;}#sk-container-id-1 div.sk-label-container {text-align: center;}#sk-container-id-1 div.sk-container {/* jupyter's `normalize.less` sets `[hidden] { display: none; }` but bootstrap.min.css set `[hidden] { display: none !important; }` so we also need the `!important` here to be able to override the default hidden behavior on the sphinx rendered scikit-learn.org. See: https://github.com/scikit-learn/scikit-learn/issues/21755 */display: inline-block !important;position: relative;}#sk-container-id-1 div.sk-text-repr-fallback {display: none;}</style><div id=\"sk-container-id-1\" class=\"sk-top-container\"><div class=\"sk-text-repr-fallback\"><pre>LogisticRegression()</pre><b>In a Jupyter environment, please rerun this cell to show the HTML representation or trust the notebook. <br />On GitHub, the HTML representation is unable to render, please try loading this page with nbviewer.org.</b></div><div class=\"sk-container\" hidden><div class=\"sk-item\"><div class=\"sk-estimator sk-toggleable\"><input class=\"sk-toggleable__control sk-hidden--visually\" id=\"sk-estimator-id-1\" type=\"checkbox\" checked><label for=\"sk-estimator-id-1\" class=\"sk-toggleable__label sk-toggleable__label-arrow\">LogisticRegression</label><div class=\"sk-toggleable__content\"><pre>LogisticRegression()</pre></div></div></div></div></div>"
      ],
      "text/plain": [
       "LogisticRegression()"
      ]
     },
     "execution_count": 27,
     "metadata": {},
     "output_type": "execute_result"
    }
   ],
   "source": [
    "model.fit(x_train,y_train)"
   ]
  },
  {
   "cell_type": "code",
   "execution_count": 28,
   "id": "c0e85a90",
   "metadata": {
    "execution": {
     "iopub.execute_input": "2024-03-25T13:38:13.588701Z",
     "iopub.status.busy": "2024-03-25T13:38:13.587629Z",
     "iopub.status.idle": "2024-03-25T13:38:13.602120Z",
     "shell.execute_reply": "2024-03-25T13:38:13.600141Z"
    },
    "papermill": {
     "duration": 0.038289,
     "end_time": "2024-03-25T13:38:13.607494",
     "exception": false,
     "start_time": "2024-03-25T13:38:13.569205",
     "status": "completed"
    },
    "tags": []
   },
   "outputs": [],
   "source": [
    "x_train_pred = model.predict(x_train)\n",
    "train_accuracy= accuracy_score(x_train_pred, y_train)"
   ]
  },
  {
   "cell_type": "code",
   "execution_count": 29,
   "id": "67f5430b",
   "metadata": {
    "execution": {
     "iopub.execute_input": "2024-03-25T13:38:13.682450Z",
     "iopub.status.busy": "2024-03-25T13:38:13.681414Z",
     "iopub.status.idle": "2024-03-25T13:38:13.691124Z",
     "shell.execute_reply": "2024-03-25T13:38:13.689455Z"
    },
    "papermill": {
     "duration": 0.054332,
     "end_time": "2024-03-25T13:38:13.697792",
     "exception": false,
     "start_time": "2024-03-25T13:38:13.643460",
     "status": "completed"
    },
    "tags": []
   },
   "outputs": [
    {
     "name": "stdout",
     "output_type": "stream",
     "text": [
      "Accuracy on training data is:  0.9250317662007624\n"
     ]
    }
   ],
   "source": [
    "print('Accuracy on training data is: ',train_accuracy)"
   ]
  },
  {
   "cell_type": "code",
   "execution_count": 30,
   "id": "d8062abe",
   "metadata": {
    "execution": {
     "iopub.execute_input": "2024-03-25T13:38:13.741897Z",
     "iopub.status.busy": "2024-03-25T13:38:13.741468Z",
     "iopub.status.idle": "2024-03-25T13:38:13.750533Z",
     "shell.execute_reply": "2024-03-25T13:38:13.749445Z"
    },
    "papermill": {
     "duration": 0.029465,
     "end_time": "2024-03-25T13:38:13.752844",
     "exception": false,
     "start_time": "2024-03-25T13:38:13.723379",
     "status": "completed"
    },
    "tags": []
   },
   "outputs": [],
   "source": [
    "x_test_pred = model.predict(x_test)\n",
    "test_accuracy= accuracy_score(x_test_pred, y_test)"
   ]
  },
  {
   "cell_type": "code",
   "execution_count": 31,
   "id": "c373fca1",
   "metadata": {
    "execution": {
     "iopub.execute_input": "2024-03-25T13:38:13.788860Z",
     "iopub.status.busy": "2024-03-25T13:38:13.787770Z",
     "iopub.status.idle": "2024-03-25T13:38:13.793556Z",
     "shell.execute_reply": "2024-03-25T13:38:13.792352Z"
    },
    "papermill": {
     "duration": 0.026257,
     "end_time": "2024-03-25T13:38:13.795969",
     "exception": false,
     "start_time": "2024-03-25T13:38:13.769712",
     "status": "completed"
    },
    "tags": []
   },
   "outputs": [
    {
     "name": "stdout",
     "output_type": "stream",
     "text": [
      "Accuracy on test data is:  0.9086294416243654\n"
     ]
    }
   ],
   "source": [
    "print('Accuracy on test data is: ',test_accuracy)"
   ]
  },
  {
   "cell_type": "code",
   "execution_count": null,
   "id": "4073c0fe",
   "metadata": {
    "papermill": {
     "duration": 0.016552,
     "end_time": "2024-03-25T13:38:13.829548",
     "exception": false,
     "start_time": "2024-03-25T13:38:13.812996",
     "status": "completed"
    },
    "tags": []
   },
   "outputs": [],
   "source": []
  }
 ],
 "metadata": {
  "kaggle": {
   "accelerator": "none",
   "dataSources": [
    {
     "datasetId": 817870,
     "sourceId": 1399887,
     "sourceType": "datasetVersion"
    },
    {
     "datasetId": 310,
     "sourceId": 23498,
     "sourceType": "datasetVersion"
    }
   ],
   "dockerImageVersionId": 30673,
   "isGpuEnabled": false,
   "isInternetEnabled": true,
   "language": "python",
   "sourceType": "notebook"
  },
  "kernelspec": {
   "display_name": "Python 3",
   "language": "python",
   "name": "python3"
  },
  "language_info": {
   "codemirror_mode": {
    "name": "ipython",
    "version": 3
   },
   "file_extension": ".py",
   "mimetype": "text/x-python",
   "name": "python",
   "nbconvert_exporter": "python",
   "pygments_lexer": "ipython3",
   "version": "3.10.13"
  },
  "papermill": {
   "default_parameters": {},
   "duration": 13.234455,
   "end_time": "2024-03-25T13:38:14.468316",
   "environment_variables": {},
   "exception": null,
   "input_path": "__notebook__.ipynb",
   "output_path": "__notebook__.ipynb",
   "parameters": {},
   "start_time": "2024-03-25T13:38:01.233861",
   "version": "2.5.0"
  }
 },
 "nbformat": 4,
 "nbformat_minor": 5
}
